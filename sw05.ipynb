{
 "metadata": {
  "language_info": {
   "codemirror_mode": {
    "name": "ipython",
    "version": 3
   },
   "file_extension": ".py",
   "mimetype": "text/x-python",
   "name": "python",
   "nbconvert_exporter": "python",
   "pygments_lexer": "ipython3",
   "version": "2.7.15-final"
  },
  "orig_nbformat": 2,
  "kernelspec": {
   "name": "python_defaultSpec_1598959597896",
   "display_name": "Python 2.7.15 64-bit"
  }
 },
 "nbformat": 4,
 "nbformat_minor": 2,
 "cells": [
  {
   "cell_type": "markdown",
   "metadata": {},
   "source": [
    "# Imports"
   ]
  },
  {
   "cell_type": "code",
   "execution_count": null,
   "metadata": {},
   "outputs": [],
   "source": [
    "import sys\n",
    "import os\n",
    "import numpy as np\n",
    "import matplotlib as mpl\n",
    "import matplotlib.pyplot as plt\n",
    "gleam_root = \"/Users/phdenzel/gleam\"\n",
    "sys.path.append(gleam_root)\n",
    "import gleam\n",
    "from gleam.multilens import MultiLens\n",
    "from gleam.utils.lensing import LensModel\n",
    "from gleam.reconsrc import ReconSrc\n",
    "from gleam.lightsampler import LightSampler\n",
    "from gleam.starsampler import StarSampler\n",
    "from gleam.utils.plotting import kappa_map_plot, kappa_profiles_plot\n",
    "from gleam.utils.plotting import arrival_time_surface_plot\n",
    "from gleam.utils.plotting import plot_scalebar, plot_labelbox\n",
    "from gleam.utils.rgb_map import lupton_like, grayscale\n",
    "import gleam.utils.units as glu\n",
    "import gleam.utils.colors as gcl"
   ]
  },
  {
   "cell_type": "code",
   "execution_count": null,
   "metadata": {},
   "outputs": [],
   "source": [
    "extension = 'pdf'\n"
   ]
  },
  {
   "cell_type": "markdown",
   "metadata": {},
   "source": [
    "# Lens observations"
   ]
  },
  {
   "cell_type": "code",
   "execution_count": null,
   "metadata": {
    "tags": []
   },
   "outputs": [],
   "source": [
    "lensfiles = !ls data/*.fits\n",
    "key_sorter = {'U': 0, 'G': 1, 'R': 2, 'I': 3, 'I2': 4, 'Z': 5}\n",
    "lensfiles = sorted(lensfiles, key=lambda f: key_sorter[f.split('.')[1]])\n",
    "print(lensfiles)\n",
    "\n",
    "wide_lensfiles = !ls data/wide/*.fits\n",
    "wide_lensfiles =sorted(wide_lensfiles, key=lambda f: key_sorter[f.split('.')[1]])\n",
    "print(wide_lensfiles)\n"
   ]
  },
  {
   "cell_type": "code",
   "execution_count": null,
   "metadata": {
    "tags": []
   },
   "outputs": [],
   "source": [
    "ml = MultiLens(lensfiles)\n",
    "print(ml.__v__)\n"
   ]
  },
  {
   "cell_type": "code",
   "execution_count": null,
   "metadata": {},
   "outputs": [],
   "source": [
    "fig, ax = plt.subplots()\n",
    "ml.plot_composite(fig, ax, method='bluer', scalebar=True, length=4, fontsize=18)\n",
    "plt.tight_layout()\n",
    "\n",
    "savename = 'composite_SW05.{}'.format(extension)\n",
    "plt.savefig(os.path.join('plots', savename),\n",
    "            transparent=True, bbox_inches='tight', pad_inches=0)\n"
   ]
  },
  {
   "cell_type": "code",
   "execution_count": null,
   "metadata": {
    "tags": []
   },
   "outputs": [],
   "source": [
    "mlw = MultiLens(wide_lensfiles)\n",
    "print(mlw.__v__)\n"
   ]
  },
  {
   "cell_type": "code",
   "execution_count": null,
   "metadata": {},
   "outputs": [],
   "source": [
    "fig, ax = plt.subplots(figsize=(8, 8))\n",
    "mlw.plot_composite(fig, ax, method='bluer', scalebar=True, length=50, fontsize=24)\n",
    "plt.tight_layout()\n",
    "\n",
    "savename = 'nbrhood_composite.{}'.format(extension)\n",
    "plt.savefig(os.path.join('plots', savename),\n",
    "            transparent=True, bbox_inches='tight', pad_inches=0)\n"
   ]
  },
  {
   "cell_type": "code",
   "execution_count": null,
   "metadata": {
    "tags": []
   },
   "outputs": [],
   "source": [
    "fig, ax = plt.subplots(figsize=(8, 8))\n",
    "\n",
    "mref = 19.051\n",
    "zref = 0.5629\n",
    "xref = -218.72702\n",
    "yref = 52.480804\n",
    "\n",
    "nbrfyle = open('data/wide/nearby.out')\n",
    "\n",
    "ax.imshow(np.ones((248, 248)), extent=[-124, 124, -124, 124], cmap='bone')\n",
    "# plt.colorbar()\n",
    "\n",
    "lynes = nbrfyle.readlines()\n",
    "for lyne in lynes:\n",
    "    g = lyne.split()\n",
    "    x, y = -float(g[0]), float(g[1])\n",
    "    y = (y - yref) * 3600\n",
    "    x = (x - xref) * 3600 / 1.6\n",
    "    mdiff = mref - float(g[3])\n",
    "    size = 10**(0.3*(mdiff))\n",
    "    z = float(g[5])\n",
    "    if size > 10**(-0.8):\n",
    "        if size > 4:\n",
    "            size = 4\n",
    "        size = int(400 * size**2)\n",
    "        # print x, y, siz, z, mdiff\n",
    "        if z <= 0:\n",
    "            ax.scatter(x, y, marker='.', s=size, color='#adadad')  # grey\n",
    "        elif z > (zref + 0.1):\n",
    "            ax.scatter(x, y, marker='.', s=size, color='#d03d60')  # red\n",
    "        elif z < (zref - 0.1):\n",
    "            ax.scatter(x, y, marker='.', s=size, color='#603dd0')  # blue\n",
    "        else:\n",
    "            ax.scatter(x, y, marker='.', s=size, color='#3dd060')  # green\n",
    "\n",
    "\n",
    "ax.set_xlim(xmin=-124, xmax=124)\n",
    "ax.set_ylim(ymin=-124, ymax=124)\n",
    "plot_scalebar(124, length=50, fontsize=24)\n",
    "plt.axis('off')\n",
    "fig.axes[0].get_xaxis().set_visible(False)\n",
    "fig.axes[0].get_yaxis().set_visible(False)\n",
    "plt.gca().set_aspect('equal')\n",
    "plt.tight_layout()\n",
    "\n",
    "savename = 'nbrhood_zrange.{}'.format(extension)\n",
    "plt.savefig(os.path.join('plots', savename),\n",
    "            transparent=True, bbox_inches='tight', pad_inches=0)\n"
   ]
  },
  {
   "cell_type": "markdown",
   "metadata": {},
   "source": [
    "# Lens models"
   ]
  },
  {
   "cell_type": "code",
   "execution_count": null,
   "metadata": {
    "tags": []
   },
   "outputs": [],
   "source": [
    "statefile = 'gls/012771.state'\n",
    "# statefile = 'gls/N7LTELSYTM.state'\n",
    "# statefile = 'gls/sw05.state'\n",
    "print(statefile)\n"
   ]
  },
  {
   "cell_type": "code",
   "execution_count": null,
   "metadata": {
    "tags": []
   },
   "outputs": [],
   "source": [
    "lm = LensModel(statefile)\n",
    "print(lm.__v__)\n"
   ]
  },
  {
   "cell_type": "markdown",
   "metadata": {},
   "source": [
    "## $\\kappa$"
   ]
  },
  {
   "cell_type": "code",
   "execution_count": null,
   "metadata": {
    "tags": []
   },
   "outputs": [],
   "source": [
    "kappa_map_plot(lm,\n",
    "               mdl_index=-1,\n",
    "               extent=lm.extent,\n",
    "               factor=lm.dlsds,\n",
    "               contours=True,\n",
    "               levels=8,\n",
    "               delta=0.1)\n",
    "\n",
    "plot_scalebar(lm.maprad,\n",
    "              length=4,\n",
    "              position='bottom left',\n",
    "              padding=(0.08, 0.06),\n",
    "              barheight=0.03,\n",
    "              length_scale=1.,\n",
    "              color='white',\n",
    "              fontsize=18)\n",
    "# plot_labelbox(lm.obj_name,\n",
    "#               position='bottom right',\n",
    "#               fontsize=20,\n",
    "#               color='white')\n",
    "plt.axis('off')\n",
    "plt.gcf().axes[0].get_xaxis().set_visible(False)\n",
    "plt.gcf().axes[0].get_yaxis().set_visible(False)\n",
    "plt.tight_layout()\n",
    "\n",
    "savename = 'kappa_SW05.{}'.format(extension)\n",
    "plt.savefig(os.path.join('plots', savename),\n",
    "            transparent=True, bbox_inches='tight', pad_inches=0)\n"
   ]
  },
  {
   "cell_type": "markdown",
   "metadata": {},
   "source": [
    "## $\\kappa_{\\infty}$"
   ]
  },
  {
   "cell_type": "code",
   "execution_count": null,
   "metadata": {
    "tags": []
   },
   "outputs": [],
   "source": [
    "kappa_map_plot(lm,\n",
    "               mdl_index=-1,\n",
    "               extent=lm.extent,\n",
    "               factor=1.,\n",
    "               contours=True,\n",
    "               levels=8,\n",
    "               delta=0.1)\n",
    "\n",
    "plot_scalebar(lm.maprad,\n",
    "              length=4,\n",
    "              position='bottom left',\n",
    "              padding=(0.08, 0.06),\n",
    "              barheight=0.03,\n",
    "              length_scale=1.,\n",
    "              color='white',\n",
    "              fontsize=18)\n",
    "# plot_labelbox(lm.obj_name,\n",
    "#               position='bottom right',\n",
    "#               fontsize=20,\n",
    "#               color='white')\n",
    "plt.axis('off')\n",
    "plt.gcf().axes[0].get_xaxis().set_visible(False)\n",
    "plt.gcf().axes[0].get_yaxis().set_visible(False)\n",
    "plt.tight_layout()\n",
    "\n",
    "savename = 'kappa_inf_SW05.{}'.format(extension)\n",
    "plt.savefig(os.path.join('plots', savename),\n",
    "            transparent=True, bbox_inches='tight', pad_inches=0)\n"
   ]
  },
  {
   "cell_type": "markdown",
   "metadata": {},
   "source": [
    "## $\\Sigma$"
   ]
  },
  {
   "cell_type": "code",
   "execution_count": null,
   "metadata": {},
   "outputs": [],
   "source": [
    "k_grid = lm.kappa_grid(model_index=-1, refined=False)\n",
    "kappa = lm.kappa  # Msol/arcsec^2\n",
    "plt.imshow(kappa*k_grid, extent=lm.extent, cmap=gcl.GLEAMcmaps.agaveglitch, vmin=0.1*kappa, vmax=2*kappa)\n",
    "plt.colorbar()\n",
    "\n",
    "plot_scalebar(lm.maprad,\n",
    "              length=4,\n",
    "              position='bottom left',\n",
    "              padding=(0.08, 0.06),\n",
    "              barheight=0.03,\n",
    "              length_scale=1.,\n",
    "              color='white',\n",
    "              fontsize=18)\n",
    "# plot_labelbox(lm.obj_name,\n",
    "#               position='bottom right',\n",
    "#               fontsize=20,\n",
    "#               color='white')\n",
    "plt.axis('off')\n",
    "plt.gcf().axes[0].get_xaxis().set_visible(False)\n",
    "plt.gcf().axes[0].get_yaxis().set_visible(False)\n",
    "plt.tight_layout()\n",
    "\n",
    "savename = 'sigma_SW05.{}'.format(extension)\n",
    "# plt.savefig(os.path.join('plots', savename),\n",
    "#             transparent=True, bbox_inches='tight', pad_inches=0)\n",
    "plt.close()\n"
   ]
  },
  {
   "cell_type": "markdown",
   "metadata": {},
   "source": [
    "## $\\tau$"
   ]
  },
  {
   "cell_type": "code",
   "execution_count": null,
   "metadata": {
    "tags": []
   },
   "outputs": [],
   "source": [
    "%%script false\n",
    "arrival_time_surface_plot(lm,\n",
    "                          psifactor=1./lm.dlsds,\n",
    "                          geofactor=1./lm.dlsds,\n",
    "                          # psifactor=1.,\n",
    "                          # geofactor=1.,\n",
    "                          mdl_index=-1,\n",
    "                          draw_images=True,\n",
    "                          contours=True,\n",
    "                          levels=75,\n",
    "                          scalebar=False)\n",
    "\n",
    "plot_scalebar(lm.maprad,\n",
    "              length=4,\n",
    "              position='bottom left',\n",
    "              padding=(0.08, 0.06),\n",
    "              barheight=0.03,\n",
    "              length_scale=1.,\n",
    "              color='black',\n",
    "              fontsize=18)\n",
    "# plot_labelbox(lm.obj_name,\n",
    "#               position='bottom right',\n",
    "#               fontsize=20,\n",
    "#               color='black')\n",
    "plt.axis('off')\n",
    "plt.gcf().axes[0].get_xaxis().set_visible(False)\n",
    "plt.gcf().axes[0].get_yaxis().set_visible(False)\n",
    "plt.tight_layout()\n",
    "\n",
    "# savename = 'arrival_SW05.{}'.format(extension)\n",
    "# plt.savefig(os.path.join('plots', savename),\n",
    "#             transparent=True, bbox_inches='tight', pad_inches=0)\n"
   ]
  },
  {
   "cell_type": "markdown",
   "metadata": {},
   "source": [
    "## Calculation of synthetics"
   ]
  },
  {
   "cell_type": "code",
   "execution_count": null,
   "metadata": {
    "tags": []
   },
   "outputs": [],
   "source": [
    "for b in ml.bands:\n",
    "    ml[b].zl = lm.zl\n",
    "    ml[b].zs = lm.zs\n",
    "# Inspect all bands\n",
    "ml['u'].plot_f(log=True, length=4)   # u\n",
    "ml['g'].plot_f(log=True, length=4)   # g\n",
    "ml['r'].plot_f(log=True, length=4)   # r\n",
    "ml['i'].plot_f(log=True, length=4)   # i\n",
    "ml['z'].plot_f(log=True, length=4)   # z\n"
   ]
  },
  {
   "cell_type": "code",
   "execution_count": null,
   "metadata": {
    "tags": []
   },
   "outputs": [],
   "source": [
    "# band selection\n",
    "band = 'i'\n",
    "lo = ml[band].deepcopy()\n",
    "lo.data = np.flipud(lo.data[:])\n",
    "\n",
    "print lo.__v__\n"
   ]
  },
  {
   "cell_type": "code",
   "execution_count": null,
   "metadata": {
    "tags": []
   },
   "outputs": [],
   "source": [
    "# mask centering\n",
    "c = lo.center.xy[::-1] + np.array([-4, -5])\n",
    "msk = lo.roi.select_circle(center=c, radius=13)\n",
    "lo.origin = c\n",
    "\n",
    "print(c)"
   ]
  },
  {
   "cell_type": "code",
   "execution_count": null,
   "metadata": {
    "tags": []
   },
   "outputs": [],
   "source": [
    "# ReconSrc setup\n",
    "reconsrc = ReconSrc(lo, lm, M=120, mask_keys=['circle'])\n",
    "\n",
    "sigf = 1\n",
    "sig2 = sigf * np.abs(lo.data[:])\n",
    "sig2[sig2 == 0] = sig2[sig2 != 0].min()\n",
    "\n",
    "print reconsrc.__v__\n"
   ]
  },
  {
   "cell_type": "code",
   "execution_count": null,
   "metadata": {},
   "outputs": [],
   "source": [
    "# check mask placement\n",
    "dij = reconsrc.lens_map(mask=True)\n",
    "dij = np.log(1+dij-dij.min())\n",
    "plt.imshow(dij,\n",
    "           #extent=lo.extent,\n",
    "           cmap='gravic')\n"
   ]
  },
  {
   "cell_type": "code",
   "execution_count": null,
   "metadata": {
    "tags": []
   },
   "outputs": [],
   "source": [
    "%%script false\n",
    "# check coordinate shift\n",
    "grid = np.array([np.sum(lo.theta(i)**2) for i in range(lo.naxis1*lo.naxis2)])\n",
    "grid = grid.reshape((lo.naxis1, lo.naxis2))\n",
    "plt.imshow(grid,\n",
    "           # extent=lo.extent,\n",
    "           cmap='gravic')\n",
    "plt.colorbar()"
   ]
  },
  {
   "cell_type": "code",
   "execution_count": null,
   "metadata": {
    "tags": []
   },
   "outputs": [],
   "source": [
    "# run projections\n",
    "kw = dict(method='minres',\n",
    "          use_psf=False,\n",
    "          use_mask=True,\n",
    "          use_filter=False,\n",
    "          sigma2=sig2.copy(),\n",
    "          cached=True)\n",
    "wrad = 0.8\n",
    "\n",
    "reconsrc.inv_proj_matrix(use_mask=False, r_max=3.5)\n",
    "lns = reconsrc.lens_map(mask=True)\n",
    "src = reconsrc.plane_map(**kw)\n",
    "synth = reconsrc.reproj_map(from_cache=False, save_to_cache=False, **kw)\n",
    "residmap = reconsrc.residual_map(nonzero_only=True, within_radius=wrad, from_cache=False, save_to_cache=False, **kw)\n",
    "chi2 = reconsrc.reproj_chi2(reduced=False, nonzero_only=True, within_radius=wrad, from_cache=False, save_to_cache=False, **kw)\n",
    "print(\"Chi2: {}\".format(chi2))\n"
   ]
  },
  {
   "cell_type": "code",
   "execution_count": null,
   "metadata": {},
   "outputs": [],
   "source": [
    "plt.imshow(src,\n",
    "           #extent=lo.extent,\n",
    "           cmap='gravic',\n",
    "           vmin=0,\n",
    "           vmax=2,\n",
    ")\n",
    "plt.colorbar()"
   ]
  },
  {
   "cell_type": "code",
   "execution_count": null,
   "metadata": {},
   "outputs": [],
   "source": [
    "plt.imshow(np.flipud(ml[band].data),\n",
    "           #extent=lo.extent,\n",
    "           cmap='gravic',\n",
    "           # vmin=0,\n",
    "           # vmax=6,\n",
    "           # vmax=15,\n",
    "           # vmax=20,\n",
    ")\n",
    "plt.colorbar()"
   ]
  },
  {
   "cell_type": "code",
   "execution_count": null,
   "metadata": {},
   "outputs": [],
   "source": [
    "plt.imshow(lns,\n",
    "           #extent=lo.extent,\n",
    "           cmap='gravic',\n",
    "           # vmin=0,\n",
    "           # vmax=6,\n",
    "           # vmax=15,\n",
    "           # vmax=20,\n",
    ")\n",
    "plt.colorbar()"
   ]
  },
  {
   "cell_type": "code",
   "execution_count": null,
   "metadata": {},
   "outputs": [],
   "source": [
    "plt.imshow(synth,\n",
    "           #extent=lo.extent,\n",
    "           cmap='gravic',\n",
    "           # vmin=0,\n",
    "           # vmax=6,\n",
    "           # vmax=15,\n",
    "           # vmax=20,\n",
    ")\n",
    "plt.colorbar()"
   ]
  },
  {
   "cell_type": "code",
   "execution_count": null,
   "metadata": {},
   "outputs": [],
   "source": [
    "%%script false\n",
    "import cPickle as pickle\n",
    "\n",
    "with open('savestates/reconproj_{}.pkl'.format(band), 'wb') as f:\n",
    "    pickle.dump([np.flipud(ml[band].data), src, synth], f)"
   ]
  },
  {
   "cell_type": "code",
   "execution_count": null,
   "metadata": {},
   "outputs": [],
   "source": [
    "import cPickle as pickle\n",
    "\n",
    "lnss = []\n",
    "srcs = []\n",
    "synths = []\n",
    "for ib in ['i', 'r', 'g']:\n",
    "    with open('savestates/reconproj_{}.pkl'.format(ib), 'rb') as f:\n",
    "        pkldta = pickle.load(f)\n",
    "    lnss.append(pkldta[0])\n",
    "    srcs.append(pkldta[1])\n",
    "    synths.append(pkldta[2])\n"
   ]
  },
  {
   "cell_type": "code",
   "execution_count": null,
   "metadata": {},
   "outputs": [],
   "source": [
    "synths_norm = [0, 0, 0]\n",
    "for i in range(3):\n",
    "    synths_norm[i] = synths[i].copy()\n",
    "    msk = synths[i] == 0\n",
    "    synths_norm[i][msk] = lnss[i][msk]\n",
    "rgblns = lupton_like(lnss[0], lnss[1], lnss[2], method='bluer')\n",
    "rgbsrc = lupton_like(srcs[0], srcs[1], srcs[2], method='bluer')\n",
    "rgbsynth = lupton_like(synths_norm[0], synths_norm[1], synths_norm[2], method='bluer')\n"
   ]
  },
  {
   "cell_type": "code",
   "execution_count": null,
   "metadata": {},
   "outputs": [],
   "source": [
    "%%script false\n",
    "plt.imshow(rgblns)\n",
    "plt.show()\n",
    "plt.imshow(rgbsynth)\n",
    "plt.show()\n"
   ]
  },
  {
   "cell_type": "code",
   "execution_count": null,
   "metadata": {},
   "outputs": [],
   "source": [
    "plt.imshow(rgbsynth, extent=lo.extent)\n",
    "\n",
    "plot_scalebar(lo.extent[1],\n",
    "              length=4,\n",
    "              position='bottom left',\n",
    "              padding=(0.08, 0.06),\n",
    "              barheight=0.03,\n",
    "              length_scale=1.,\n",
    "              color='white',\n",
    "              fontsize=18)\n",
    "# plot_labelbox(lm.obj_name,\n",
    "#               position='bottom right',\n",
    "#               fontsize=20,\n",
    "#               color='white')\n",
    "plt.axis('off')\n",
    "plt.gcf().axes[0].get_xaxis().set_visible(False)\n",
    "plt.gcf().axes[0].get_yaxis().set_visible(False)\n",
    "plt.tight_layout()\n",
    "\n",
    "savename = 'composite_synth_SW05.{}'.format(extension)\n",
    "plt.savefig(os.path.join('plots', savename),\n",
    "            transparent=True, bbox_inches='tight', pad_inches=0)\n",
    "\n"
   ]
  },
  {
   "cell_type": "code",
   "execution_count": null,
   "metadata": {},
   "outputs": [],
   "source": [
    "plt.imshow(np.sqrt(rgbsrc), extent=reconsrc.src_extent)\n",
    "\n",
    "plot_scalebar(3.5,\n",
    "              length=1,\n",
    "              position='bottom left',\n",
    "              padding=(0.08, 0.06),\n",
    "              barheight=0.03,\n",
    "              length_scale=1.,\n",
    "              color='white',\n",
    "              fontsize=18)\n",
    "# plot_labelbox(lm.obj_name,\n",
    "#               position='bottom right',\n",
    "#               fontsize=20,\n",
    "#               color='white')\n",
    "plt.axis('off')\n",
    "plt.gcf().axes[0].get_xaxis().set_visible(False)\n",
    "plt.gcf().axes[0].get_yaxis().set_visible(False)\n",
    "plt.tight_layout()\n",
    "\n",
    "savename = 'composite_src_SW05.{}'.format(extension)\n",
    "plt.savefig(os.path.join('plots', savename),\n",
    "            transparent=True, bbox_inches='tight', pad_inches=0)"
   ]
  },
  {
   "cell_type": "code",
   "execution_count": null,
   "metadata": {
    "tags": []
   },
   "outputs": [],
   "source": [
    "resids = []\n",
    "red_chi2s = []\n",
    "for i in range(3):\n",
    "\n",
    "    dta = lnss[i].copy()\n",
    "    fit = synths[i].copy()\n",
    "    dta[fit == 0] = 0\n",
    "\n",
    "    sig2 = 1 * np.abs(lnss[i][:])\n",
    "    sig2[sig2 == 0] = sig2[sig2 != 0].min()\n",
    "\n",
    "    r = (dta - fit)**2/sig2\n",
    "    dof = float(np.prod(r.shape)) - float(np.sum(r == 0)) - (float(np.prod(srcs[i].shape)) - float(np.sum(srcs[i] == 0)))\n",
    "    red_chi2s.append(2*np.sum(r) / dof)\n",
    "    resids.append(np.sqrt(r).copy())\n",
    "\n",
    "resids = np.sum(resids, axis=0)\n",
    "\n",
    "# plotting\n",
    "plt.imshow(resids, extent=lo.extent, cmap='vilux', vmin=0, vmax=5)\n",
    "plt.text(0.95, 0.9, r\"$\\chi^{2}_{\\nu}$: \"+\"{:2.2f}\".format(np.average(red_chi2s)), color='#DEDEDE',\n",
    "         horizontalalignment='right', transform=plt.gca().transAxes, fontsize=17)\n",
    "plt.colorbar()\n",
    "\n",
    "plot_scalebar(lo.extent[1],\n",
    "              length=4,\n",
    "              position='bottom left',\n",
    "              padding=(0.08, 0.06),\n",
    "              barheight=0.03,\n",
    "              length_scale=1.,\n",
    "              color='white',\n",
    "              fontsize=18)\n",
    "# plot_labelbox(lm.obj_name,\n",
    "#               position='bottom right',\n",
    "#               fontsize=20,\n",
    "#               color='white')\n",
    "plt.axis('off')\n",
    "plt.gcf().axes[0].get_xaxis().set_visible(False)\n",
    "plt.gcf().axes[0].get_yaxis().set_visible(False)\n",
    "plt.tight_layout()\n",
    "\n",
    "savename = 'composite_resids_SW05.{}'.format(extension)\n",
    "plt.savefig(os.path.join('plots', savename),\n",
    "            transparent=True, bbox_inches='tight', pad_inches=0)"
   ]
  },
  {
   "cell_type": "markdown",
   "metadata": {},
   "source": [
    "## Stellar light model"
   ]
  },
  {
   "cell_type": "code",
   "execution_count": null,
   "metadata": {
    "tags": []
   },
   "outputs": [],
   "source": [
    "lo = ml['i'] # .deepcopy()\n",
    "ml['i'].data = np.flipud(ml['i'].data[:])\n",
    "c = lo.center.xy[::-1] + np.array([-4, -5])\n",
    "msk = ml['i'].roi.select_circle(center=c, radius=13)\n",
    "ml['i'].origin = c\n",
    "print c"
   ]
  },
  {
   "cell_type": "code",
   "execution_count": null,
   "metadata": {
    "tags": []
   },
   "outputs": [],
   "source": [
    "lsampler = LightSampler.from_gleamobj(ml, verbose=0)\n",
    "lsampler.parameters = {'x': c[1], 'y': c[0]-1}\n",
    "priors = lsampler.model.priors\n",
    "priors[0] = [c[1]-4, c[1]+4]\n",
    "priors[1] = [c[0]-4, c[0]+4]\n",
    "lsampler.model.priors = priors\n",
    "# lsampler.fixed = 'x', 'y'\n",
    "lsampler.fixed = 'c_0',\n",
    "print lsampler.__v__\n",
    "\n",
    "\n",
    "# sampler.parspace_plot(show=1)"
   ]
  },
  {
   "cell_type": "code",
   "execution_count": null,
   "metadata": {
    "tags": []
   },
   "outputs": [],
   "source": [
    "plt.imshow(lsampler.data)\n",
    "plt.imshow(lsampler.mask, cmap='bone', alpha=0.2)\n"
   ]
  },
  {
   "cell_type": "code",
   "execution_count": null,
   "metadata": {
    "tags": []
   },
   "outputs": [],
   "source": [
    "%%script false\n",
    "# Run MCMC parameter estimation\n",
    "lsampler.run(n_walkers=300, burn_in=50, mcmc_steps=500)\n",
    "lsampler.ensemble_average()\n",
    "print lsampler.parameters\n",
    "lsampler.parspace_plot()\n"
   ]
  },
  {
   "cell_type": "code",
   "execution_count": null,
   "metadata": {
    "tags": []
   },
   "outputs": [],
   "source": [
    "best_pars = {'x': 59.02099903821723, 'y': 58.9346344410624,\n",
    "             'I_0': 29.49507094039217,\n",
    "             'n': 1.4974741188141885, 'c_0': 0.0,\n",
    "             'e': 0.11663097506313133,\n",
    "             'phi': 3.464562637198838+90,\n",
    "             'r_s': 8.976805452180514 * (100./128),\n",
    "}\n",
    "lsampler.parameters = best_pars\n",
    "print lsampler.parameters\n"
   ]
  },
  {
   "cell_type": "code",
   "execution_count": null,
   "metadata": {},
   "outputs": [],
   "source": [
    "dta = lsampler.data\n",
    "plt.imshow(dta, cmap=gcl.GLEAMcmaps.vilux, vmin=0, vmax=200)\n",
    "plt.colorbar()\n"
   ]
  },
  {
   "cell_type": "code",
   "execution_count": null,
   "metadata": {
    "tags": []
   },
   "outputs": [],
   "source": [
    "ml['i'].light_model = lsampler.model\n",
    "lightmdl = ml['i'].light_model['sersic']\n",
    "lightmdl.Nx = 128\n",
    "lightmdl.Ny = 128\n",
    "mdl = lightmdl.get_map()\n",
    "# plt.imshow(np.log10(1+mdl-mdl.min()), cmap=gcl.GLEAMcmaps.vilux, vmin=0)\n",
    "plt.imshow(mdl, cmap=gcl.GLEAMcmaps.vilux, vmin=0, vmax=200)\n",
    "plt.colorbar()\n"
   ]
  },
  {
   "cell_type": "code",
   "execution_count": null,
   "metadata": {},
   "outputs": [],
   "source": [
    "resid = lsampler.residual_map(squared=False)\n",
    "plt.imshow(resid, cmap=gcl.GLEAMcmaps.vilux, vmin=0, vmax=5)\n",
    "plt.colorbar()\n"
   ]
  },
  {
   "cell_type": "markdown",
   "metadata": {},
   "source": [
    "## Stellar mass model (simple & modelled mass estimates)"
   ]
  },
  {
   "cell_type": "code",
   "execution_count": null,
   "metadata": {
    "tags": []
   },
   "outputs": [],
   "source": [
    "ssampler = StarSampler.from_gleamobj(ml, verbose=0)\n"
   ]
  },
  {
   "cell_type": "code",
   "execution_count": null,
   "metadata": {
    "tags": []
   },
   "outputs": [],
   "source": [
    "m_stel = ssampler.chabrier_estimate(band_data=[l.data for l in ml])\n",
    "print(m_stel)\n",
    "ml['i'].stel_mass = m_stel[1]  # middle estimate\n",
    "print \"{:e}\".format(m_stel[1])\n"
   ]
  },
  {
   "cell_type": "code",
   "execution_count": null,
   "metadata": {
    "tags": []
   },
   "outputs": [],
   "source": [
    "# from MCMC (hardcoded, resampling would take too long)\n",
    "m_stel = [3.04e+11 - 0.22e+11, 3.04e+11, 3.04e+11 + 0.22e+11]\n",
    "print(m_stel)\n",
    "ml['i'].stel_mass = m_stel[1]\n",
    "print \"{:e}\".format(m_stel[1])\n",
    "\n",
    "# with open('savestates/stelM_012771.pkl') as f:\n",
    "#     samples = pickle.load(f)\n",
    "# print samples.shape\n",
    "\n",
    "# smpls_mean = np.median(samples, axis=0)\n",
    "# print smpls_mean\n"
   ]
  },
  {
   "cell_type": "code",
   "execution_count": null,
   "metadata": {
    "tags": []
   },
   "outputs": [],
   "source": [
    "# from gleam.utils.lensing import integrate_map\n",
    "m_stel_map = ml['i'].stel_map.copy()\n",
    "print \"{:e}\".format(np.sum(m_stel_map))\n",
    "\n",
    "m_stel_map = StarSampler.resample_map(ml['i'].stel_map.copy(), ml['i'].extent,\n",
    "                                      lm.kappa_grid(refined=True).shape, lm.extent)\n",
    "\n",
    "plt.imshow(m_stel_map, cmap='phoenix', extent=lm.extent, vmax=3e+9)\n",
    "plt.colorbar()\n",
    "\n"
   ]
  },
  {
   "cell_type": "code",
   "execution_count": null,
   "metadata": {
    "tags": []
   },
   "outputs": [],
   "source": [
    "stel_map = StarSampler.resample_map(ml['i'].stel_map.copy(), ml['i'].extent,\n",
    "                                    lm.kappa_grid(refined=True).shape, lm.extent)\n",
    "\n",
    "lens_map = lm.sigma_grid(model_index=-1, refined=True) * lm.pixel_size**2\n",
    "\n",
    "var_map = lm.variance_grid(refined=True)\n",
    "ensemble = var_map\n",
    "np.percentile(ensemble, axis=0)\n",
    "\n",
    "# plt.imshow(var_map, cmap='vilux', extent=lm.extent)\n",
    "# plt.colorbar()\n",
    "\n",
    "# print stel_map.shape, lens_map.shape\n",
    "print \"Stel. mass: {:e}\".format(np.sum(stel_map))\n",
    "print \"Lens. mass: {:e}\".format(np.sum(lens_map))\n"
   ]
  },
  {
   "cell_type": "code",
   "execution_count": null,
   "metadata": {},
   "outputs": [],
   "source": [
    "def f(stel, lens, ef):\n",
    "    return (stel/lens)**ef\n",
    "\n",
    "def A(stel, lens, eA):\n",
    "    return lens**eA\n",
    "\n",
    "def Delta(lens_var, eDelta):\n",
    "    return lens_var**eDelta"
   ]
  },
  {
   "cell_type": "code",
   "execution_count": null,
   "metadata": {},
   "outputs": [],
   "source": []
  }
 ]
}